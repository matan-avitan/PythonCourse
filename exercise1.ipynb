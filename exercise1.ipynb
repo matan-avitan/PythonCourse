{
  "nbformat": 4,
  "nbformat_minor": 0,
  "metadata": {
    "colab": {
      "provenance": [],
      "authorship_tag": "ABX9TyMbsmTRWryutMbIHLkPpK0w",
      "include_colab_link": true
    },
    "kernelspec": {
      "name": "python3",
      "display_name": "Python 3"
    },
    "language_info": {
      "name": "python"
    }
  },
  "cells": [
    {
      "cell_type": "markdown",
      "metadata": {
        "id": "view-in-github",
        "colab_type": "text"
      },
      "source": [
        "<a href=\"https://colab.research.google.com/github/matan-avitan/PythonCourse/blob/main/exercise1.ipynb\" target=\"_parent\"><img src=\"https://colab.research.google.com/assets/colab-badge.svg\" alt=\"Open In Colab\"/></a>"
      ]
    },
    {
      "cell_type": "markdown",
      "source": [
        "#**Exercise 1**"
      ],
      "metadata": {
        "id": "b1fAkZld_btU"
      }
    },
    {
      "cell_type": "markdown",
      "source": [
        "<br/>"
      ],
      "metadata": {
        "id": "0O99pnJhAn46"
      }
    },
    {
      "cell_type": "markdown",
      "source": [
        "###Task 1\n",
        "\n",
        "In number theory, the sieve of Eratosthenes (Sieve of Eratosthenes), a Greek mathematician, is a simple algorithm for finding all prime numbers up to a certain integer. We start with the list of all the whole numbers from 2 to the selected number. At each step, the smallest number in the list that has not yet been dealt with is declared prime, and all its multiples (which are odd numbers) are marked inside the list. In the end all the numbers in the list that are not checked are the prime numbers.\n",
        "\n"
      ],
      "metadata": {
        "id": "6q88vTVP_KEx"
      }
    },
    {
      "cell_type": "code",
      "source": [
        "from typing import List\n",
        "\n",
        "def sieve_of_eratosthenes(max_number_to_find: int) -> List[int]:\n",
        "  \"\"\"\n",
        "  The function finds all the prime numbers up to the input number\n",
        "  \"\"\"\n",
        "\n",
        "  numbers = list(range(2,max_number_to_find+1))\n",
        "  index_1 = 0\n",
        "\n",
        "  while index_1 < len(numbers):\n",
        "    index_2 = index_1 + 1\n",
        "    while index_2 < len(numbers):\n",
        "      if numbers[index_2] % numbers[index_1] == 0:\n",
        "        numbers.pop(index_2)\n",
        "      else:\n",
        "        index_2 += 1\n",
        "    index_1 += 1\n",
        "\n",
        "  return numbers"
      ],
      "metadata": {
        "id": "5qVSk_MV_Xe6"
      },
      "execution_count": 335,
      "outputs": []
    },
    {
      "cell_type": "markdown",
      "source": [
        "#####Examples:"
      ],
      "metadata": {
        "id": "d832JicWGBTM"
      }
    },
    {
      "cell_type": "code",
      "source": [
        "print(sieve_of_eratosthenes(20))"
      ],
      "metadata": {
        "colab": {
          "base_uri": "https://localhost:8080/"
        },
        "id": "TEUAG13g_Y9i",
        "outputId": "17632820-4df2-456e-81a1-e3e3aeca092b"
      },
      "execution_count": 336,
      "outputs": [
        {
          "output_type": "stream",
          "name": "stdout",
          "text": [
            "[2, 3, 5, 7, 11, 13, 17, 19]\n"
          ]
        }
      ]
    },
    {
      "cell_type": "code",
      "source": [
        "print(sieve_of_eratosthenes(50))"
      ],
      "metadata": {
        "colab": {
          "base_uri": "https://localhost:8080/"
        },
        "id": "GOcJ760D_ZT4",
        "outputId": "caca2bb9-f329-460f-d59f-dd72d56813c7"
      },
      "execution_count": 337,
      "outputs": [
        {
          "output_type": "stream",
          "name": "stdout",
          "text": [
            "[2, 3, 5, 7, 11, 13, 17, 19, 23, 29, 31, 37, 41, 43, 47]\n"
          ]
        }
      ]
    },
    {
      "cell_type": "code",
      "source": [
        "print(sieve_of_eratosthenes(100))"
      ],
      "metadata": {
        "colab": {
          "base_uri": "https://localhost:8080/"
        },
        "id": "1U5aLihJ_Za7",
        "outputId": "54e61f0a-9b1a-4a93-fc20-c6e1bab828ea"
      },
      "execution_count": 338,
      "outputs": [
        {
          "output_type": "stream",
          "name": "stdout",
          "text": [
            "[2, 3, 5, 7, 11, 13, 17, 19, 23, 29, 31, 37, 41, 43, 47, 53, 59, 61, 67, 71, 73, 79, 83, 89, 97]\n"
          ]
        }
      ]
    },
    {
      "cell_type": "markdown",
      "source": [
        "<br/>\n",
        "<br/>"
      ],
      "metadata": {
        "id": "FyZ4G7WnF9lh"
      }
    },
    {
      "cell_type": "markdown",
      "source": [
        "### Task 2\n",
        "\n",
        "Write a recursive function (split) that receives as input a list of integers and separates the odd and even numbers, so that the odd numbers appear at the beginning of the list and the even numbers at the end."
      ],
      "metadata": {
        "id": "GlF8kgD-GI75"
      }
    },
    {
      "cell_type": "code",
      "source": [
        "from typing import List\n",
        "\n",
        "def split(list_of_numbers:List[int])->List[int]:\n",
        "  \"\"\"\n",
        "  The function splits a list of integers, it place odd numbers first\n",
        "  and even numbers at the end.\n",
        "  \"\"\"\n",
        "\n",
        "  if len(list_of_numbers) == 0:\n",
        "    return list_of_numbers\n",
        "  number = list_of_numbers[0]\n",
        "  if number % 2 == 0:\n",
        "    return split(list_of_numbers[1:]) + [number]\n",
        "  else:\n",
        "    return [number] + split(list_of_numbers[1:])"
      ],
      "metadata": {
        "id": "qR0H5b1e_ZjZ"
      },
      "execution_count": 339,
      "outputs": []
    },
    {
      "cell_type": "markdown",
      "source": [
        "#####Examples:"
      ],
      "metadata": {
        "id": "kUYVh5noNX5M"
      }
    },
    {
      "cell_type": "code",
      "source": [
        "print(split([1,2,2,3,7,2,4,5]))"
      ],
      "metadata": {
        "colab": {
          "base_uri": "https://localhost:8080/"
        },
        "id": "SZsUT2viIUBS",
        "outputId": "3a577197-fb40-42ab-8617-436e0a2be9b2"
      },
      "execution_count": 340,
      "outputs": [
        {
          "output_type": "stream",
          "name": "stdout",
          "text": [
            "[1, 3, 7, 5, 4, 2, 2, 2]\n"
          ]
        }
      ]
    },
    {
      "cell_type": "code",
      "source": [
        "print(split([1,4,7,8,2,1,4,5,6,9,8,5,2,1,4,5,2,2,1,4,5,6,9,7,8,1,5,4,5,6,4]))"
      ],
      "metadata": {
        "colab": {
          "base_uri": "https://localhost:8080/"
        },
        "id": "in1sDnqDIZ5q",
        "outputId": "e0d368d1-5692-4788-b407-e145ba117877"
      },
      "execution_count": 341,
      "outputs": [
        {
          "output_type": "stream",
          "name": "stdout",
          "text": [
            "[1, 7, 1, 5, 9, 5, 1, 5, 1, 5, 9, 7, 1, 5, 5, 4, 6, 4, 8, 6, 4, 2, 2, 4, 2, 8, 6, 4, 2, 8, 4]\n"
          ]
        }
      ]
    },
    {
      "cell_type": "code",
      "source": [
        "print(split([1,2,3,4,5,6,7,8,9]))"
      ],
      "metadata": {
        "colab": {
          "base_uri": "https://localhost:8080/"
        },
        "id": "VLLQem9GJy6H",
        "outputId": "68ca1dba-a960-4199-e0f7-77d692955ed9"
      },
      "execution_count": 342,
      "outputs": [
        {
          "output_type": "stream",
          "name": "stdout",
          "text": [
            "[1, 3, 5, 7, 9, 8, 6, 4, 2]\n"
          ]
        }
      ]
    },
    {
      "cell_type": "code",
      "source": [
        "print(split([1,5,1,3,4,5]))"
      ],
      "metadata": {
        "colab": {
          "base_uri": "https://localhost:8080/"
        },
        "id": "kQmfg5WKMrDP",
        "outputId": "019a7cd3-8db2-44e0-8dbe-92528ac2daa2"
      },
      "execution_count": 343,
      "outputs": [
        {
          "output_type": "stream",
          "name": "stdout",
          "text": [
            "[1, 5, 1, 3, 5, 4]\n"
          ]
        }
      ]
    },
    {
      "cell_type": "code",
      "source": [
        "print(split([2,4,6,4,8,4,2,2,10]))"
      ],
      "metadata": {
        "colab": {
          "base_uri": "https://localhost:8080/"
        },
        "id": "czJyj1orMv3-",
        "outputId": "2382c6a2-1459-45af-9bd6-b86fb30b6d5c"
      },
      "execution_count": 344,
      "outputs": [
        {
          "output_type": "stream",
          "name": "stdout",
          "text": [
            "[10, 2, 2, 4, 8, 4, 6, 4, 2]\n"
          ]
        }
      ]
    },
    {
      "cell_type": "code",
      "source": [
        "print(split([]))"
      ],
      "metadata": {
        "colab": {
          "base_uri": "https://localhost:8080/"
        },
        "id": "_k1x-EXDM1YG",
        "outputId": "993fdedd-d9cf-4a63-cdf6-6a0831839226"
      },
      "execution_count": 345,
      "outputs": [
        {
          "output_type": "stream",
          "name": "stdout",
          "text": [
            "[]\n"
          ]
        }
      ]
    },
    {
      "cell_type": "code",
      "source": [
        "print(split([2]))"
      ],
      "metadata": {
        "colab": {
          "base_uri": "https://localhost:8080/"
        },
        "id": "ktilnbVbNdP_",
        "outputId": "cd19fb1f-0101-44a1-9eb9-e01dd56c18f6"
      },
      "execution_count": 346,
      "outputs": [
        {
          "output_type": "stream",
          "name": "stdout",
          "text": [
            "[2]\n"
          ]
        }
      ]
    },
    {
      "cell_type": "markdown",
      "source": [
        "<br/>\n",
        "<br/>"
      ],
      "metadata": {
        "id": "dM_I50kVOTSJ"
      }
    },
    {
      "cell_type": "markdown",
      "source": [
        "### Task 3\n",
        "\n",
        "A perfect number (or: a perfect number) is a natural number equal to the sum of all its natural divisors except the number itself. For example, the first prime number is 6=1+2+3, followed by 28=1+2+4+7+14. Write a function that accepts a natural number and checks if it is perfect (if it is perfect, the function will return True, otherwise False)."
      ],
      "metadata": {
        "id": "VNMjTA3INxA2"
      }
    },
    {
      "cell_type": "code",
      "source": [
        "def validate_is_perfect_number(number_to_validate: int)-> bool:\n",
        "  \"\"\"\n",
        "  The function validate if input number is perfect number by iterating over\n",
        "  all the possible divisor (max will be square root of the number)\n",
        "  \"\"\"\n",
        "  if number_to_validate <= 1:\n",
        "    return False\n",
        "  # 1 is always a devided number, we can check from 2 and add it to the sum\n",
        "  sum_of_devided_numbers = 1\n",
        "  for number in range(2,number_to_validate // 2 + 1):\n",
        "    if number_to_validate % number == 0:\n",
        "      sum_of_devided_numbers += number\n",
        "  if sum_of_devided_numbers == number_to_validate:\n",
        "    return True\n",
        "  else:\n",
        "    return False\n",
        "\n"
      ],
      "metadata": {
        "id": "EF_eenaBN5Sc"
      },
      "execution_count": 347,
      "outputs": []
    },
    {
      "cell_type": "markdown",
      "source": [
        "#####Examples:"
      ],
      "metadata": {
        "id": "edyG5vZ5NxKT"
      }
    },
    {
      "cell_type": "code",
      "source": [
        "print(validate_is_perfect_number(0))"
      ],
      "metadata": {
        "colab": {
          "base_uri": "https://localhost:8080/"
        },
        "id": "w7vJiWIZkrIQ",
        "outputId": "256d2c1a-082f-48f0-b9c2-b428d0c88b0c"
      },
      "execution_count": 348,
      "outputs": [
        {
          "output_type": "stream",
          "name": "stdout",
          "text": [
            "False\n"
          ]
        }
      ]
    },
    {
      "cell_type": "code",
      "source": [
        "print(validate_is_perfect_number(1))"
      ],
      "metadata": {
        "colab": {
          "base_uri": "https://localhost:8080/"
        },
        "id": "V_JMoJMRlzBi",
        "outputId": "347bf5b4-a390-4cc6-e4f1-ccab6bbaf0ac"
      },
      "execution_count": 349,
      "outputs": [
        {
          "output_type": "stream",
          "name": "stdout",
          "text": [
            "False\n"
          ]
        }
      ]
    },
    {
      "cell_type": "code",
      "source": [
        "print(validate_is_perfect_number(2))"
      ],
      "metadata": {
        "colab": {
          "base_uri": "https://localhost:8080/"
        },
        "id": "Bk5YfJkjl4DW",
        "outputId": "6934175a-48a9-4172-95d2-2724937006a3"
      },
      "execution_count": 350,
      "outputs": [
        {
          "output_type": "stream",
          "name": "stdout",
          "text": [
            "False\n"
          ]
        }
      ]
    },
    {
      "cell_type": "code",
      "source": [
        "print(validate_is_perfect_number(6))"
      ],
      "metadata": {
        "colab": {
          "base_uri": "https://localhost:8080/"
        },
        "id": "Qdhp6IbXN52w",
        "outputId": "be9a865c-6a4c-4b95-94c1-ceb05acce0f1"
      },
      "execution_count": 351,
      "outputs": [
        {
          "output_type": "stream",
          "name": "stdout",
          "text": [
            "True\n"
          ]
        }
      ]
    },
    {
      "cell_type": "code",
      "source": [
        "print(validate_is_perfect_number(28))"
      ],
      "metadata": {
        "colab": {
          "base_uri": "https://localhost:8080/"
        },
        "id": "qmMb3VNjN6cJ",
        "outputId": "a7ea226f-23ce-4ed0-e971-d71deacac066"
      },
      "execution_count": 352,
      "outputs": [
        {
          "output_type": "stream",
          "name": "stdout",
          "text": [
            "True\n"
          ]
        }
      ]
    },
    {
      "cell_type": "code",
      "source": [
        "print(validate_is_perfect_number(100))"
      ],
      "metadata": {
        "colab": {
          "base_uri": "https://localhost:8080/"
        },
        "id": "8BTL440hQA6Q",
        "outputId": "d323f824-3848-4df7-9822-6f39eb5ac17a"
      },
      "execution_count": 353,
      "outputs": [
        {
          "output_type": "stream",
          "name": "stdout",
          "text": [
            "False\n"
          ]
        }
      ]
    },
    {
      "cell_type": "code",
      "source": [
        "print(validate_is_perfect_number(101))"
      ],
      "metadata": {
        "colab": {
          "base_uri": "https://localhost:8080/"
        },
        "id": "FRQp0w-eRBHt",
        "outputId": "6d513121-d50e-4eff-dfe3-dee75f3063f9"
      },
      "execution_count": 354,
      "outputs": [
        {
          "output_type": "stream",
          "name": "stdout",
          "text": [
            "False\n"
          ]
        }
      ]
    },
    {
      "cell_type": "code",
      "source": [
        "print(validate_is_perfect_number(496))"
      ],
      "metadata": {
        "colab": {
          "base_uri": "https://localhost:8080/"
        },
        "id": "ewJMPKEuRBJl",
        "outputId": "02cd95da-9c5f-4a2e-b5fb-84e5608d9f6c"
      },
      "execution_count": 355,
      "outputs": [
        {
          "output_type": "stream",
          "name": "stdout",
          "text": [
            "True\n"
          ]
        }
      ]
    },
    {
      "cell_type": "code",
      "source": [
        "print(validate_is_perfect_number(8128))"
      ],
      "metadata": {
        "colab": {
          "base_uri": "https://localhost:8080/"
        },
        "id": "oXypgJlbRITG",
        "outputId": "6036c3c6-e8c7-47c9-d927-5cd3ad49f2d0"
      },
      "execution_count": 356,
      "outputs": [
        {
          "output_type": "stream",
          "name": "stdout",
          "text": [
            "True\n"
          ]
        }
      ]
    },
    {
      "cell_type": "markdown",
      "source": [
        "<br/>\n",
        "<br/>"
      ],
      "metadata": {
        "id": "tG14J3xjOUYZ"
      }
    },
    {
      "cell_type": "markdown",
      "source": [
        "### Task 4\n",
        "\n",
        "Write a function that receives a list of different numbers and produces all possible permutations from the received numbers."
      ],
      "metadata": {
        "id": "13HTxD6fNxRp"
      }
    },
    {
      "cell_type": "code",
      "source": [
        "from typing import List\n",
        "\n",
        "def get_all_permutations(list_of_numbers: List[int]) -> List[List[int]]:\n",
        "  \"\"\"\n",
        "  The function return all permutations of a list\n",
        "  \"\"\"\n",
        "  if len(list_of_numbers) <= 1:\n",
        "    return [list_of_numbers]\n",
        "  all_permutations = []\n",
        "  for index, number in enumerate(list_of_numbers):\n",
        "    remaining_numbers = list_of_numbers[:index] + list_of_numbers[index+ 1:]\n",
        "    remaining_permutations = get_all_permutations(remaining_numbers)\n",
        "    for remaining_permutation in remaining_permutations:\n",
        "      new_permutation = [number] + remaining_permutation\n",
        "      all_permutations.append(new_permutation)\n",
        "  return all_permutations\n",
        "\n"
      ],
      "metadata": {
        "id": "kqO9UiDdeyry"
      },
      "execution_count": 357,
      "outputs": []
    },
    {
      "cell_type": "markdown",
      "source": [
        "#####Examples:"
      ],
      "metadata": {
        "id": "q28R3UJINxUS"
      }
    },
    {
      "cell_type": "code",
      "source": [
        "print(get_all_permutations([3,2,1]))"
      ],
      "metadata": {
        "colab": {
          "base_uri": "https://localhost:8080/"
        },
        "id": "VeAWn_GLOOPe",
        "outputId": "f1b677a5-5924-4e97-ecb2-609932c8a81b"
      },
      "execution_count": 358,
      "outputs": [
        {
          "output_type": "stream",
          "name": "stdout",
          "text": [
            "[[3, 2, 1], [3, 1, 2], [2, 3, 1], [2, 1, 3], [1, 3, 2], [1, 2, 3]]\n"
          ]
        }
      ]
    },
    {
      "cell_type": "code",
      "source": [
        "print(get_all_permutations([3,1]))"
      ],
      "metadata": {
        "colab": {
          "base_uri": "https://localhost:8080/"
        },
        "id": "DzVWUd-xOOSL",
        "outputId": "ba448a52-f39f-4156-b0c1-86611f557647"
      },
      "execution_count": 359,
      "outputs": [
        {
          "output_type": "stream",
          "name": "stdout",
          "text": [
            "[[3, 1], [1, 3]]\n"
          ]
        }
      ]
    },
    {
      "cell_type": "code",
      "source": [
        "print(get_all_permutations([5]))"
      ],
      "metadata": {
        "colab": {
          "base_uri": "https://localhost:8080/"
        },
        "id": "igCLcXklOOVK",
        "outputId": "edf63280-1444-4f74-f234-862afa05f0c8"
      },
      "execution_count": 360,
      "outputs": [
        {
          "output_type": "stream",
          "name": "stdout",
          "text": [
            "[[5]]\n"
          ]
        }
      ]
    },
    {
      "cell_type": "code",
      "source": [
        "print(get_all_permutations([]))"
      ],
      "metadata": {
        "colab": {
          "base_uri": "https://localhost:8080/"
        },
        "id": "YVcI2JJXg3An",
        "outputId": "6fd741ea-eb86-4387-c05f-403976e66792"
      },
      "execution_count": 361,
      "outputs": [
        {
          "output_type": "stream",
          "name": "stdout",
          "text": [
            "[[]]\n"
          ]
        }
      ]
    },
    {
      "cell_type": "code",
      "source": [
        "print(get_all_permutations([1,2,3,4]))"
      ],
      "metadata": {
        "colab": {
          "base_uri": "https://localhost:8080/"
        },
        "id": "EXwKJHz_g3FR",
        "outputId": "2c4ae82c-5af6-47c8-9a74-6553b45ac93f"
      },
      "execution_count": 362,
      "outputs": [
        {
          "output_type": "stream",
          "name": "stdout",
          "text": [
            "[[1, 2, 3, 4], [1, 2, 4, 3], [1, 3, 2, 4], [1, 3, 4, 2], [1, 4, 2, 3], [1, 4, 3, 2], [2, 1, 3, 4], [2, 1, 4, 3], [2, 3, 1, 4], [2, 3, 4, 1], [2, 4, 1, 3], [2, 4, 3, 1], [3, 1, 2, 4], [3, 1, 4, 2], [3, 2, 1, 4], [3, 2, 4, 1], [3, 4, 1, 2], [3, 4, 2, 1], [4, 1, 2, 3], [4, 1, 3, 2], [4, 2, 1, 3], [4, 2, 3, 1], [4, 3, 1, 2], [4, 3, 2, 1]]\n"
          ]
        }
      ]
    },
    {
      "cell_type": "code",
      "source": [
        "print(get_all_permutations([1,2,3,4,5]))"
      ],
      "metadata": {
        "colab": {
          "base_uri": "https://localhost:8080/"
        },
        "id": "Se2jmRTzg3Ia",
        "outputId": "e9759377-9ca4-443a-c791-3838c39dc4ac"
      },
      "execution_count": 363,
      "outputs": [
        {
          "output_type": "stream",
          "name": "stdout",
          "text": [
            "[[1, 2, 3, 4, 5], [1, 2, 3, 5, 4], [1, 2, 4, 3, 5], [1, 2, 4, 5, 3], [1, 2, 5, 3, 4], [1, 2, 5, 4, 3], [1, 3, 2, 4, 5], [1, 3, 2, 5, 4], [1, 3, 4, 2, 5], [1, 3, 4, 5, 2], [1, 3, 5, 2, 4], [1, 3, 5, 4, 2], [1, 4, 2, 3, 5], [1, 4, 2, 5, 3], [1, 4, 3, 2, 5], [1, 4, 3, 5, 2], [1, 4, 5, 2, 3], [1, 4, 5, 3, 2], [1, 5, 2, 3, 4], [1, 5, 2, 4, 3], [1, 5, 3, 2, 4], [1, 5, 3, 4, 2], [1, 5, 4, 2, 3], [1, 5, 4, 3, 2], [2, 1, 3, 4, 5], [2, 1, 3, 5, 4], [2, 1, 4, 3, 5], [2, 1, 4, 5, 3], [2, 1, 5, 3, 4], [2, 1, 5, 4, 3], [2, 3, 1, 4, 5], [2, 3, 1, 5, 4], [2, 3, 4, 1, 5], [2, 3, 4, 5, 1], [2, 3, 5, 1, 4], [2, 3, 5, 4, 1], [2, 4, 1, 3, 5], [2, 4, 1, 5, 3], [2, 4, 3, 1, 5], [2, 4, 3, 5, 1], [2, 4, 5, 1, 3], [2, 4, 5, 3, 1], [2, 5, 1, 3, 4], [2, 5, 1, 4, 3], [2, 5, 3, 1, 4], [2, 5, 3, 4, 1], [2, 5, 4, 1, 3], [2, 5, 4, 3, 1], [3, 1, 2, 4, 5], [3, 1, 2, 5, 4], [3, 1, 4, 2, 5], [3, 1, 4, 5, 2], [3, 1, 5, 2, 4], [3, 1, 5, 4, 2], [3, 2, 1, 4, 5], [3, 2, 1, 5, 4], [3, 2, 4, 1, 5], [3, 2, 4, 5, 1], [3, 2, 5, 1, 4], [3, 2, 5, 4, 1], [3, 4, 1, 2, 5], [3, 4, 1, 5, 2], [3, 4, 2, 1, 5], [3, 4, 2, 5, 1], [3, 4, 5, 1, 2], [3, 4, 5, 2, 1], [3, 5, 1, 2, 4], [3, 5, 1, 4, 2], [3, 5, 2, 1, 4], [3, 5, 2, 4, 1], [3, 5, 4, 1, 2], [3, 5, 4, 2, 1], [4, 1, 2, 3, 5], [4, 1, 2, 5, 3], [4, 1, 3, 2, 5], [4, 1, 3, 5, 2], [4, 1, 5, 2, 3], [4, 1, 5, 3, 2], [4, 2, 1, 3, 5], [4, 2, 1, 5, 3], [4, 2, 3, 1, 5], [4, 2, 3, 5, 1], [4, 2, 5, 1, 3], [4, 2, 5, 3, 1], [4, 3, 1, 2, 5], [4, 3, 1, 5, 2], [4, 3, 2, 1, 5], [4, 3, 2, 5, 1], [4, 3, 5, 1, 2], [4, 3, 5, 2, 1], [4, 5, 1, 2, 3], [4, 5, 1, 3, 2], [4, 5, 2, 1, 3], [4, 5, 2, 3, 1], [4, 5, 3, 1, 2], [4, 5, 3, 2, 1], [5, 1, 2, 3, 4], [5, 1, 2, 4, 3], [5, 1, 3, 2, 4], [5, 1, 3, 4, 2], [5, 1, 4, 2, 3], [5, 1, 4, 3, 2], [5, 2, 1, 3, 4], [5, 2, 1, 4, 3], [5, 2, 3, 1, 4], [5, 2, 3, 4, 1], [5, 2, 4, 1, 3], [5, 2, 4, 3, 1], [5, 3, 1, 2, 4], [5, 3, 1, 4, 2], [5, 3, 2, 1, 4], [5, 3, 2, 4, 1], [5, 3, 4, 1, 2], [5, 3, 4, 2, 1], [5, 4, 1, 2, 3], [5, 4, 1, 3, 2], [5, 4, 2, 1, 3], [5, 4, 2, 3, 1], [5, 4, 3, 1, 2], [5, 4, 3, 2, 1]]\n"
          ]
        }
      ]
    },
    {
      "cell_type": "code",
      "source": [
        "print(get_all_permutations([10,6,20]))"
      ],
      "metadata": {
        "colab": {
          "base_uri": "https://localhost:8080/"
        },
        "id": "gxJVOwmdg3PE",
        "outputId": "2b6d28bb-512a-4fac-eab7-04aaa00cd670"
      },
      "execution_count": 364,
      "outputs": [
        {
          "output_type": "stream",
          "name": "stdout",
          "text": [
            "[[10, 6, 20], [10, 20, 6], [6, 10, 20], [6, 20, 10], [20, 10, 6], [20, 6, 10]]\n"
          ]
        }
      ]
    },
    {
      "cell_type": "markdown",
      "source": [
        "<br/>\n",
        "<br/>"
      ],
      "metadata": {
        "id": "LJlghgvUg6At"
      }
    },
    {
      "cell_type": "markdown",
      "source": [
        "###Task 5:\n",
        "\n",
        "Write a function that accepts as input a sentence in the structure of a string and returns the sentence with words in reversed order.\n"
      ],
      "metadata": {
        "id": "nirfbDgwNxX1"
      }
    },
    {
      "cell_type": "code",
      "source": [
        "def reverse_string_words(string_words: str) -> str:\n",
        "  \"\"\"\n",
        "  The function get a sentence and revese the words to opsite order\n",
        "  \"\"\"\n",
        "  words = string_words.split()\n",
        "  new_string_words = ' '.join(words[::-1])\n",
        "  return new_string_words"
      ],
      "metadata": {
        "id": "wIBm-akbOfsf"
      },
      "execution_count": 365,
      "outputs": []
    },
    {
      "cell_type": "markdown",
      "source": [
        "#####Examples:"
      ],
      "metadata": {
        "id": "LqQfgtWuNxeE"
      }
    },
    {
      "cell_type": "code",
      "source": [
        "print(reverse_string_words('Python Is My Favorite Programming Language'))"
      ],
      "metadata": {
        "colab": {
          "base_uri": "https://localhost:8080/"
        },
        "id": "uX28Q7uOOipj",
        "outputId": "f63d708a-23b8-4f72-96e4-6f889169bc57"
      },
      "execution_count": 366,
      "outputs": [
        {
          "output_type": "stream",
          "name": "stdout",
          "text": [
            "Language Programming Favorite My Is Python\n"
          ]
        }
      ]
    },
    {
      "cell_type": "code",
      "source": [
        "print(reverse_string_words('Python Language'))"
      ],
      "metadata": {
        "colab": {
          "base_uri": "https://localhost:8080/"
        },
        "id": "NmoNZfNbOir0",
        "outputId": "3e6c60af-8fac-40e1-cfda-5d296e305b6c"
      },
      "execution_count": 367,
      "outputs": [
        {
          "output_type": "stream",
          "name": "stdout",
          "text": [
            "Language Python\n"
          ]
        }
      ]
    },
    {
      "cell_type": "code",
      "source": [
        "print(reverse_string_words(''))"
      ],
      "metadata": {
        "colab": {
          "base_uri": "https://localhost:8080/"
        },
        "id": "wE9Co6NqOitr",
        "outputId": "b86ea57e-1c85-4931-da94-6db4901fdd3b"
      },
      "execution_count": 368,
      "outputs": [
        {
          "output_type": "stream",
          "name": "stdout",
          "text": [
            "\n"
          ]
        }
      ]
    },
    {
      "cell_type": "code",
      "source": [
        "print(reverse_string_words('Python is Language'))"
      ],
      "metadata": {
        "colab": {
          "base_uri": "https://localhost:8080/"
        },
        "id": "2HK95KHEjDVy",
        "outputId": "4e22d61e-0d0d-4226-ec01-f4bcf973ecaf"
      },
      "execution_count": 369,
      "outputs": [
        {
          "output_type": "stream",
          "name": "stdout",
          "text": [
            "Language is Python\n"
          ]
        }
      ]
    },
    {
      "cell_type": "code",
      "source": [
        "print(reverse_string_words('a b c d e f g h i j k l m n o p q r s t u v w x y z'))"
      ],
      "metadata": {
        "colab": {
          "base_uri": "https://localhost:8080/"
        },
        "id": "djzFKCzmjDfs",
        "outputId": "3173b64b-87ab-43d5-8132-219fe513850c"
      },
      "execution_count": 370,
      "outputs": [
        {
          "output_type": "stream",
          "name": "stdout",
          "text": [
            "z y x w v u t s r q p o n m l k j i h g f e d c b a\n"
          ]
        }
      ]
    },
    {
      "cell_type": "code",
      "source": [
        "print(reverse_string_words('Python'))"
      ],
      "metadata": {
        "colab": {
          "base_uri": "https://localhost:8080/"
        },
        "id": "o8G36sfCjDpe",
        "outputId": "a7e95b04-6abf-4a34-ec2d-14015a6f033e"
      },
      "execution_count": 371,
      "outputs": [
        {
          "output_type": "stream",
          "name": "stdout",
          "text": [
            "Python\n"
          ]
        }
      ]
    },
    {
      "cell_type": "code",
      "source": [
        "print(reverse_string_words('Python? Yes!'))"
      ],
      "metadata": {
        "colab": {
          "base_uri": "https://localhost:8080/"
        },
        "id": "CkXELN5rj98Z",
        "outputId": "71c5d27e-d708-4b5c-9ed0-a16ad355bf91"
      },
      "execution_count": 372,
      "outputs": [
        {
          "output_type": "stream",
          "name": "stdout",
          "text": [
            "Yes! Python?\n"
          ]
        }
      ]
    }
  ]
}