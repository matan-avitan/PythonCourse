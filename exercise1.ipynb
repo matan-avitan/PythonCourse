{
  "nbformat": 4,
  "nbformat_minor": 0,
  "metadata": {
    "colab": {
      "provenance": [],
      "authorship_tag": "ABX9TyO2Ucxk5BOULaxywVj6cHE8",
      "include_colab_link": true
    },
    "kernelspec": {
      "name": "python3",
      "display_name": "Python 3"
    },
    "language_info": {
      "name": "python"
    }
  },
  "cells": [
    {
      "cell_type": "markdown",
      "metadata": {
        "id": "view-in-github",
        "colab_type": "text"
      },
      "source": [
        "<a href=\"https://colab.research.google.com/github/matan-avitan/PythonCourse/blob/main/exercise1.ipynb\" target=\"_parent\"><img src=\"https://colab.research.google.com/assets/colab-badge.svg\" alt=\"Open In Colab\"/></a>"
      ]
    },
    {
      "cell_type": "markdown",
      "source": [
        "#**Exercise 1**"
      ],
      "metadata": {
        "id": "b1fAkZld_btU"
      }
    },
    {
      "cell_type": "markdown",
      "source": [
        "<br/>"
      ],
      "metadata": {
        "id": "0O99pnJhAn46"
      }
    },
    {
      "cell_type": "markdown",
      "source": [
        "###Task 1\n",
        "\n",
        "In number theory, the sieve of Eratosthenes (Sieve of Eratosthenes), a Greek mathematician, is a simple algorithm for finding all prime numbers up to a certain integer. We start with the list of all the whole numbers from 2 to the selected number. At each step, the smallest number in the list that has not yet been dealt with is declared prime, and all its multiples (which are odd numbers) are marked inside the list. In the end all the numbers in the list that are not checked are the prime numbers.\n",
        "\n"
      ],
      "metadata": {
        "id": "6q88vTVP_KEx"
      }
    },
    {
      "cell_type": "code",
      "source": [
        "from typing import List\n",
        "\n",
        "def sieve_of_eratosthenes(max_number_to_find: int) -> List[int]:\n",
        "  \"\"\"\n",
        "  The function finds all the prime numbers up to the input number\n",
        "  \"\"\"\n",
        "\n",
        "  numbers = list(range(2,max_number_to_find+1))\n",
        "  index_1 = 0\n",
        "\n",
        "  while index_1 < len(numbers):\n",
        "    index_2 = index_1 + 1\n",
        "    while index_2 < len(numbers):\n",
        "      if numbers[index_2] % numbers[index_1] == 0:\n",
        "        numbers.pop(index_2)\n",
        "      else:\n",
        "        index_2 += 1\n",
        "    index_1 += 1\n",
        "\n",
        "  return numbers"
      ],
      "metadata": {
        "id": "5qVSk_MV_Xe6"
      },
      "execution_count": 1,
      "outputs": []
    },
    {
      "cell_type": "markdown",
      "source": [
        "#####Examples:"
      ],
      "metadata": {
        "id": "d832JicWGBTM"
      }
    },
    {
      "cell_type": "code",
      "source": [
        "print(sieve_of_eratosthenes(2))"
      ],
      "metadata": {
        "colab": {
          "base_uri": "https://localhost:8080/"
        },
        "id": "umqOL5kmP8Ru",
        "outputId": "1e995276-8255-4e40-cac3-d3206623f8a2"
      },
      "execution_count": 143,
      "outputs": [
        {
          "output_type": "stream",
          "name": "stdout",
          "text": [
            "[2]\n"
          ]
        }
      ]
    },
    {
      "cell_type": "code",
      "source": [
        "print(sieve_of_eratosthenes(7))"
      ],
      "metadata": {
        "colab": {
          "base_uri": "https://localhost:8080/"
        },
        "id": "MxFWKm9LP_ZH",
        "outputId": "176922a7-a6e9-495b-b789-7d08f1bfa320"
      },
      "execution_count": 145,
      "outputs": [
        {
          "output_type": "stream",
          "name": "stdout",
          "text": [
            "[2, 3, 5, 7]\n"
          ]
        }
      ]
    },
    {
      "cell_type": "code",
      "source": [
        "print(sieve_of_eratosthenes(20))"
      ],
      "metadata": {
        "colab": {
          "base_uri": "https://localhost:8080/"
        },
        "id": "TEUAG13g_Y9i",
        "outputId": "75a5fc82-e857-4103-e319-234324ff441b"
      },
      "execution_count": 146,
      "outputs": [
        {
          "output_type": "stream",
          "name": "stdout",
          "text": [
            "[2, 3, 5, 7, 11, 13, 17, 19]\n"
          ]
        }
      ]
    },
    {
      "cell_type": "code",
      "source": [
        "print(sieve_of_eratosthenes(50))"
      ],
      "metadata": {
        "colab": {
          "base_uri": "https://localhost:8080/"
        },
        "id": "GOcJ760D_ZT4",
        "outputId": "9d6c1380-c6bb-4815-c38f-a699c3d8c4fd"
      },
      "execution_count": 147,
      "outputs": [
        {
          "output_type": "stream",
          "name": "stdout",
          "text": [
            "[2, 3, 5, 7, 11, 13, 17, 19, 23, 29, 31, 37, 41, 43, 47]\n"
          ]
        }
      ]
    },
    {
      "cell_type": "code",
      "source": [
        "print(sieve_of_eratosthenes(100))"
      ],
      "metadata": {
        "colab": {
          "base_uri": "https://localhost:8080/"
        },
        "id": "1U5aLihJ_Za7",
        "outputId": "915b832f-9377-483a-c266-e7ba5dbbd538"
      },
      "execution_count": 148,
      "outputs": [
        {
          "output_type": "stream",
          "name": "stdout",
          "text": [
            "[2, 3, 5, 7, 11, 13, 17, 19, 23, 29, 31, 37, 41, 43, 47, 53, 59, 61, 67, 71, 73, 79, 83, 89, 97]\n"
          ]
        }
      ]
    },
    {
      "cell_type": "code",
      "source": [
        "print(sieve_of_eratosthenes(250))"
      ],
      "metadata": {
        "colab": {
          "base_uri": "https://localhost:8080/"
        },
        "id": "crSquyJVP0p0",
        "outputId": "cee0d7b9-4cec-4105-c693-9f48720d10d0"
      },
      "execution_count": 149,
      "outputs": [
        {
          "output_type": "stream",
          "name": "stdout",
          "text": [
            "[2, 3, 5, 7, 11, 13, 17, 19, 23, 29, 31, 37, 41, 43, 47, 53, 59, 61, 67, 71, 73, 79, 83, 89, 97, 101, 103, 107, 109, 113, 127, 131, 137, 139, 149, 151, 157, 163, 167, 173, 179, 181, 191, 193, 197, 199, 211, 223, 227, 229, 233, 239, 241]\n"
          ]
        }
      ]
    },
    {
      "cell_type": "markdown",
      "source": [
        "<br/>\n",
        "<br/>"
      ],
      "metadata": {
        "id": "FyZ4G7WnF9lh"
      }
    },
    {
      "cell_type": "markdown",
      "source": [
        "### Task 2\n",
        "\n",
        "Write a recursive function (split) that receives as input a list of integers and separates the odd and even numbers, so that the odd numbers appear at the beginning of the list and the even numbers at the end."
      ],
      "metadata": {
        "id": "GlF8kgD-GI75"
      }
    },
    {
      "cell_type": "code",
      "source": [
        "from typing import List\n",
        "\n",
        "def split(list_of_numbers:List[int]) -> List[int]:\n",
        "  \"\"\"\n",
        "  The function splits a list of integers, it place odd numbers first\n",
        "  and even numbers at the end.\n",
        "  \"\"\"\n",
        "\n",
        "  if len(list_of_numbers) == 0:\n",
        "    return list_of_numbers\n",
        "  number = list_of_numbers[0]\n",
        "  if number % 2 == 0:\n",
        "    return split(list_of_numbers[1:]) + [number]\n",
        "  else:\n",
        "    return [number] + split(list_of_numbers[1:])"
      ],
      "metadata": {
        "id": "qR0H5b1e_ZjZ"
      },
      "execution_count": 5,
      "outputs": []
    },
    {
      "cell_type": "markdown",
      "source": [
        "#####Examples:"
      ],
      "metadata": {
        "id": "kUYVh5noNX5M"
      }
    },
    {
      "cell_type": "code",
      "source": [
        "print(split([1,2,2,3,7,2,4,5]))"
      ],
      "metadata": {
        "colab": {
          "base_uri": "https://localhost:8080/"
        },
        "id": "SZsUT2viIUBS",
        "outputId": "a2aab0b9-6857-4398-b244-08321592a791"
      },
      "execution_count": 6,
      "outputs": [
        {
          "output_type": "stream",
          "name": "stdout",
          "text": [
            "[1, 3, 7, 5, 4, 2, 2, 2]\n"
          ]
        }
      ]
    },
    {
      "cell_type": "code",
      "source": [
        "print(split([1,4,7,8,2,1,4,5,6,9,8,5,2,1,4,5,2,2,1,4,5,6,9,7,8,1,5,4,5,6,4]))"
      ],
      "metadata": {
        "colab": {
          "base_uri": "https://localhost:8080/"
        },
        "id": "in1sDnqDIZ5q",
        "outputId": "623e6f25-2f78-44ac-ccb3-db5fd8517f69"
      },
      "execution_count": 7,
      "outputs": [
        {
          "output_type": "stream",
          "name": "stdout",
          "text": [
            "[1, 7, 1, 5, 9, 5, 1, 5, 1, 5, 9, 7, 1, 5, 5, 4, 6, 4, 8, 6, 4, 2, 2, 4, 2, 8, 6, 4, 2, 8, 4]\n"
          ]
        }
      ]
    },
    {
      "cell_type": "code",
      "source": [
        "print(split([1,2,3,4,5,6,7,8,9]))"
      ],
      "metadata": {
        "colab": {
          "base_uri": "https://localhost:8080/"
        },
        "id": "VLLQem9GJy6H",
        "outputId": "a3b200dd-d495-4ae8-ee0d-393ddf542eb9"
      },
      "execution_count": 8,
      "outputs": [
        {
          "output_type": "stream",
          "name": "stdout",
          "text": [
            "[1, 3, 5, 7, 9, 8, 6, 4, 2]\n"
          ]
        }
      ]
    },
    {
      "cell_type": "code",
      "source": [
        "print(split([1,5,1,3,4,5]))"
      ],
      "metadata": {
        "colab": {
          "base_uri": "https://localhost:8080/"
        },
        "id": "kQmfg5WKMrDP",
        "outputId": "7726626f-6551-4ffb-9205-c4b6ed688a12"
      },
      "execution_count": 9,
      "outputs": [
        {
          "output_type": "stream",
          "name": "stdout",
          "text": [
            "[1, 5, 1, 3, 5, 4]\n"
          ]
        }
      ]
    },
    {
      "cell_type": "code",
      "source": [
        "print(split([2,4,6,4,8,4,2,2,10]))"
      ],
      "metadata": {
        "colab": {
          "base_uri": "https://localhost:8080/"
        },
        "id": "czJyj1orMv3-",
        "outputId": "ebe155a0-9cbb-4b6f-cc31-2ea681f0f268"
      },
      "execution_count": 10,
      "outputs": [
        {
          "output_type": "stream",
          "name": "stdout",
          "text": [
            "[10, 2, 2, 4, 8, 4, 6, 4, 2]\n"
          ]
        }
      ]
    },
    {
      "cell_type": "code",
      "source": [
        "print(split([]))"
      ],
      "metadata": {
        "colab": {
          "base_uri": "https://localhost:8080/"
        },
        "id": "_k1x-EXDM1YG",
        "outputId": "76c41e41-806e-4ab7-ba55-b583b222a38e"
      },
      "execution_count": 11,
      "outputs": [
        {
          "output_type": "stream",
          "name": "stdout",
          "text": [
            "[]\n"
          ]
        }
      ]
    },
    {
      "cell_type": "code",
      "source": [
        "print(split([2]))"
      ],
      "metadata": {
        "colab": {
          "base_uri": "https://localhost:8080/"
        },
        "id": "ktilnbVbNdP_",
        "outputId": "6a60096a-1f82-4638-8706-31d364304cf8"
      },
      "execution_count": 12,
      "outputs": [
        {
          "output_type": "stream",
          "name": "stdout",
          "text": [
            "[2]\n"
          ]
        }
      ]
    },
    {
      "cell_type": "markdown",
      "source": [
        "<br/>\n",
        "<br/>"
      ],
      "metadata": {
        "id": "dM_I50kVOTSJ"
      }
    },
    {
      "cell_type": "markdown",
      "source": [
        "### Task 3\n",
        "\n",
        "A perfect number is a natural number equal to the sum of all its natural divisors except the number itself. For example, the first perfect number is 6=1+2+3, followed by 28=1+2+4+7+14. Write a function that accepts a natural number and checks if it is perfect (if it is perfect, the function will return True, otherwise False)."
      ],
      "metadata": {
        "id": "VNMjTA3INxA2"
      }
    },
    {
      "cell_type": "code",
      "source": [
        "from math import sqrt\n",
        "\n",
        "def validate_is_perfect_number(number_to_validate: int) -> bool:\n",
        "  \"\"\"\n",
        "  The function validate if an input number is a perfect number by iterating over\n",
        "  all possible divisors. Max number to iterate will be a square root of\n",
        "  the number, cause reflection divisor ( divisor2 = number / divisor1 ) is also\n",
        "  a diviosor and we can add it to the sum ( only if divisor1 is not divisor2 )\n",
        "  \"\"\"\n",
        "  if number_to_validate <= 1:\n",
        "    return False\n",
        "  # 1 is always a devided number, we can check from 2 and add it to the sum\n",
        "  sum_of_divided_numbers = 1\n",
        "  for optional_divisor in range(2,int(sqrt(number_to_validate)) + 1):\n",
        "    if number_to_validate % optional_divisor == 0:\n",
        "      sum_of_divided_numbers += optional_divisor\n",
        "      second_divisor = number_to_validate // optional_divisor\n",
        "      if second_divisor != optional_divisor:\n",
        "        sum_of_divided_numbers += second_divisor\n",
        "  if sum_of_divided_numbers == number_to_validate:\n",
        "    return True\n",
        "  else:\n",
        "    return False"
      ],
      "metadata": {
        "id": "5Tj3R5MQDf8-"
      },
      "execution_count": 113,
      "outputs": []
    },
    {
      "cell_type": "markdown",
      "source": [
        "#####Examples:"
      ],
      "metadata": {
        "id": "edyG5vZ5NxKT"
      }
    },
    {
      "cell_type": "code",
      "source": [
        "print(validate_is_perfect_number(0))"
      ],
      "metadata": {
        "colab": {
          "base_uri": "https://localhost:8080/"
        },
        "id": "w7vJiWIZkrIQ",
        "outputId": "1ed6a080-07b0-459f-9fef-8db2a95595da"
      },
      "execution_count": 114,
      "outputs": [
        {
          "output_type": "stream",
          "name": "stdout",
          "text": [
            "False\n"
          ]
        }
      ]
    },
    {
      "cell_type": "code",
      "source": [
        "print(validate_is_perfect_number(1))"
      ],
      "metadata": {
        "colab": {
          "base_uri": "https://localhost:8080/"
        },
        "id": "V_JMoJMRlzBi",
        "outputId": "d319dd3a-e24a-475b-dbf6-074073f25321"
      },
      "execution_count": 115,
      "outputs": [
        {
          "output_type": "stream",
          "name": "stdout",
          "text": [
            "False\n"
          ]
        }
      ]
    },
    {
      "cell_type": "code",
      "source": [
        "print(validate_is_perfect_number(2))"
      ],
      "metadata": {
        "colab": {
          "base_uri": "https://localhost:8080/"
        },
        "id": "Bk5YfJkjl4DW",
        "outputId": "8fb5de2b-781f-472e-cd23-286b81dddd55"
      },
      "execution_count": 116,
      "outputs": [
        {
          "output_type": "stream",
          "name": "stdout",
          "text": [
            "False\n"
          ]
        }
      ]
    },
    {
      "cell_type": "code",
      "source": [
        "print(validate_is_perfect_number(4))"
      ],
      "metadata": {
        "colab": {
          "base_uri": "https://localhost:8080/"
        },
        "id": "EVFbM1XfM7Zi",
        "outputId": "1e3188f8-977b-4743-fe2d-a553618e1cae"
      },
      "execution_count": 117,
      "outputs": [
        {
          "output_type": "stream",
          "name": "stdout",
          "text": [
            "False\n"
          ]
        }
      ]
    },
    {
      "cell_type": "code",
      "source": [
        "print(validate_is_perfect_number(6))"
      ],
      "metadata": {
        "colab": {
          "base_uri": "https://localhost:8080/"
        },
        "id": "Qdhp6IbXN52w",
        "outputId": "7cda1a5f-da2f-4393-ef3c-cd5e36fd264b"
      },
      "execution_count": 118,
      "outputs": [
        {
          "output_type": "stream",
          "name": "stdout",
          "text": [
            "True\n"
          ]
        }
      ]
    },
    {
      "cell_type": "code",
      "source": [
        "print(validate_is_perfect_number(16))"
      ],
      "metadata": {
        "colab": {
          "base_uri": "https://localhost:8080/"
        },
        "id": "bZ9sXGa0PJOi",
        "outputId": "c7cbfb2c-5232-4086-90c2-84a02b7d0eb9"
      },
      "execution_count": 119,
      "outputs": [
        {
          "output_type": "stream",
          "name": "stdout",
          "text": [
            "False\n"
          ]
        }
      ]
    },
    {
      "cell_type": "code",
      "source": [
        "print(validate_is_perfect_number(28))"
      ],
      "metadata": {
        "colab": {
          "base_uri": "https://localhost:8080/"
        },
        "id": "qmMb3VNjN6cJ",
        "outputId": "0fe7bb4f-bda3-457a-afcc-720a98f509c4"
      },
      "execution_count": 120,
      "outputs": [
        {
          "output_type": "stream",
          "name": "stdout",
          "text": [
            "True\n"
          ]
        }
      ]
    },
    {
      "cell_type": "code",
      "source": [
        "print(validate_is_perfect_number(100))"
      ],
      "metadata": {
        "colab": {
          "base_uri": "https://localhost:8080/"
        },
        "id": "8BTL440hQA6Q",
        "outputId": "35b9c809-5129-462d-9c6a-92f9f03c50e8"
      },
      "execution_count": 121,
      "outputs": [
        {
          "output_type": "stream",
          "name": "stdout",
          "text": [
            "False\n"
          ]
        }
      ]
    },
    {
      "cell_type": "code",
      "source": [
        "print(validate_is_perfect_number(101))"
      ],
      "metadata": {
        "colab": {
          "base_uri": "https://localhost:8080/"
        },
        "id": "FRQp0w-eRBHt",
        "outputId": "3a2b0e97-48d2-42bd-db29-210662d50bfe"
      },
      "execution_count": 122,
      "outputs": [
        {
          "output_type": "stream",
          "name": "stdout",
          "text": [
            "False\n"
          ]
        }
      ]
    },
    {
      "cell_type": "code",
      "source": [
        "print(validate_is_perfect_number(496))"
      ],
      "metadata": {
        "colab": {
          "base_uri": "https://localhost:8080/"
        },
        "id": "ewJMPKEuRBJl",
        "outputId": "38b9fbdc-0e9d-4c64-b9f7-a69cc4fb3dad"
      },
      "execution_count": 123,
      "outputs": [
        {
          "output_type": "stream",
          "name": "stdout",
          "text": [
            "True\n"
          ]
        }
      ]
    },
    {
      "cell_type": "code",
      "source": [
        "print(validate_is_perfect_number(8128))"
      ],
      "metadata": {
        "colab": {
          "base_uri": "https://localhost:8080/"
        },
        "id": "oXypgJlbRITG",
        "outputId": "b0148a71-040f-4838-d2f8-244e98b14bc0"
      },
      "execution_count": 124,
      "outputs": [
        {
          "output_type": "stream",
          "name": "stdout",
          "text": [
            "True\n"
          ]
        }
      ]
    },
    {
      "cell_type": "markdown",
      "source": [
        "<br/>\n",
        "<br/>"
      ],
      "metadata": {
        "id": "tG14J3xjOUYZ"
      }
    },
    {
      "cell_type": "markdown",
      "source": [
        "### Task 4\n",
        "\n",
        "Write a function that receives a list of different numbers and produces all possible permutations from the received numbers."
      ],
      "metadata": {
        "id": "13HTxD6fNxRp"
      }
    },
    {
      "cell_type": "code",
      "source": [
        "from typing import List\n",
        "\n",
        "def get_all_permutations(list_of_numbers: List[int]) -> List[List[int]]:\n",
        "  \"\"\"\n",
        "  The function return all permutations of a list\n",
        "  \"\"\"\n",
        "  if len(list_of_numbers) <= 1:\n",
        "    return [list_of_numbers]\n",
        "  all_permutations = []\n",
        "  for index, number in enumerate(list_of_numbers):\n",
        "    remaining_numbers = list_of_numbers[:index] + list_of_numbers[index+ 1:]\n",
        "    remaining_permutations = get_all_permutations(remaining_numbers)\n",
        "    for remaining_permutation in remaining_permutations:\n",
        "      new_permutation = [number] + remaining_permutation\n",
        "      all_permutations.append(new_permutation)\n",
        "  return all_permutations"
      ],
      "metadata": {
        "id": "kqO9UiDdeyry"
      },
      "execution_count": 125,
      "outputs": []
    },
    {
      "cell_type": "markdown",
      "source": [
        "#####Examples:"
      ],
      "metadata": {
        "id": "q28R3UJINxUS"
      }
    },
    {
      "cell_type": "code",
      "source": [
        "print(get_all_permutations([3,2,1]))"
      ],
      "metadata": {
        "colab": {
          "base_uri": "https://localhost:8080/"
        },
        "id": "VeAWn_GLOOPe",
        "outputId": "2b8d4658-2ef8-493e-9d04-360e10ae9988"
      },
      "execution_count": 126,
      "outputs": [
        {
          "output_type": "stream",
          "name": "stdout",
          "text": [
            "[[3, 2, 1], [3, 1, 2], [2, 3, 1], [2, 1, 3], [1, 3, 2], [1, 2, 3]]\n"
          ]
        }
      ]
    },
    {
      "cell_type": "code",
      "source": [
        "print(get_all_permutations([3,1]))"
      ],
      "metadata": {
        "colab": {
          "base_uri": "https://localhost:8080/"
        },
        "id": "DzVWUd-xOOSL",
        "outputId": "2da56b00-b196-43bf-91ca-4223126e1ea7"
      },
      "execution_count": 127,
      "outputs": [
        {
          "output_type": "stream",
          "name": "stdout",
          "text": [
            "[[3, 1], [1, 3]]\n"
          ]
        }
      ]
    },
    {
      "cell_type": "code",
      "source": [
        "print(get_all_permutations([5]))"
      ],
      "metadata": {
        "colab": {
          "base_uri": "https://localhost:8080/"
        },
        "id": "igCLcXklOOVK",
        "outputId": "13ee5882-c336-4715-fdbc-488b35a87b7e"
      },
      "execution_count": 128,
      "outputs": [
        {
          "output_type": "stream",
          "name": "stdout",
          "text": [
            "[[5]]\n"
          ]
        }
      ]
    },
    {
      "cell_type": "code",
      "source": [
        "print(get_all_permutations([]))"
      ],
      "metadata": {
        "colab": {
          "base_uri": "https://localhost:8080/"
        },
        "id": "YVcI2JJXg3An",
        "outputId": "2c0d362a-6713-4498-9b20-d7a14aa3bb15"
      },
      "execution_count": 129,
      "outputs": [
        {
          "output_type": "stream",
          "name": "stdout",
          "text": [
            "[[]]\n"
          ]
        }
      ]
    },
    {
      "cell_type": "code",
      "source": [
        "print(get_all_permutations([1,2,3,4]))"
      ],
      "metadata": {
        "colab": {
          "base_uri": "https://localhost:8080/"
        },
        "id": "EXwKJHz_g3FR",
        "outputId": "ff0e1494-4f7b-4b89-ef8f-1913376c7927"
      },
      "execution_count": 130,
      "outputs": [
        {
          "output_type": "stream",
          "name": "stdout",
          "text": [
            "[[1, 2, 3, 4], [1, 2, 4, 3], [1, 3, 2, 4], [1, 3, 4, 2], [1, 4, 2, 3], [1, 4, 3, 2], [2, 1, 3, 4], [2, 1, 4, 3], [2, 3, 1, 4], [2, 3, 4, 1], [2, 4, 1, 3], [2, 4, 3, 1], [3, 1, 2, 4], [3, 1, 4, 2], [3, 2, 1, 4], [3, 2, 4, 1], [3, 4, 1, 2], [3, 4, 2, 1], [4, 1, 2, 3], [4, 1, 3, 2], [4, 2, 1, 3], [4, 2, 3, 1], [4, 3, 1, 2], [4, 3, 2, 1]]\n"
          ]
        }
      ]
    },
    {
      "cell_type": "code",
      "source": [
        "print(get_all_permutations([1,2,3,4,5]))"
      ],
      "metadata": {
        "colab": {
          "base_uri": "https://localhost:8080/"
        },
        "id": "Se2jmRTzg3Ia",
        "outputId": "842b8d0d-34d8-44ba-dc7b-fac11726a1cb"
      },
      "execution_count": 131,
      "outputs": [
        {
          "output_type": "stream",
          "name": "stdout",
          "text": [
            "[[1, 2, 3, 4, 5], [1, 2, 3, 5, 4], [1, 2, 4, 3, 5], [1, 2, 4, 5, 3], [1, 2, 5, 3, 4], [1, 2, 5, 4, 3], [1, 3, 2, 4, 5], [1, 3, 2, 5, 4], [1, 3, 4, 2, 5], [1, 3, 4, 5, 2], [1, 3, 5, 2, 4], [1, 3, 5, 4, 2], [1, 4, 2, 3, 5], [1, 4, 2, 5, 3], [1, 4, 3, 2, 5], [1, 4, 3, 5, 2], [1, 4, 5, 2, 3], [1, 4, 5, 3, 2], [1, 5, 2, 3, 4], [1, 5, 2, 4, 3], [1, 5, 3, 2, 4], [1, 5, 3, 4, 2], [1, 5, 4, 2, 3], [1, 5, 4, 3, 2], [2, 1, 3, 4, 5], [2, 1, 3, 5, 4], [2, 1, 4, 3, 5], [2, 1, 4, 5, 3], [2, 1, 5, 3, 4], [2, 1, 5, 4, 3], [2, 3, 1, 4, 5], [2, 3, 1, 5, 4], [2, 3, 4, 1, 5], [2, 3, 4, 5, 1], [2, 3, 5, 1, 4], [2, 3, 5, 4, 1], [2, 4, 1, 3, 5], [2, 4, 1, 5, 3], [2, 4, 3, 1, 5], [2, 4, 3, 5, 1], [2, 4, 5, 1, 3], [2, 4, 5, 3, 1], [2, 5, 1, 3, 4], [2, 5, 1, 4, 3], [2, 5, 3, 1, 4], [2, 5, 3, 4, 1], [2, 5, 4, 1, 3], [2, 5, 4, 3, 1], [3, 1, 2, 4, 5], [3, 1, 2, 5, 4], [3, 1, 4, 2, 5], [3, 1, 4, 5, 2], [3, 1, 5, 2, 4], [3, 1, 5, 4, 2], [3, 2, 1, 4, 5], [3, 2, 1, 5, 4], [3, 2, 4, 1, 5], [3, 2, 4, 5, 1], [3, 2, 5, 1, 4], [3, 2, 5, 4, 1], [3, 4, 1, 2, 5], [3, 4, 1, 5, 2], [3, 4, 2, 1, 5], [3, 4, 2, 5, 1], [3, 4, 5, 1, 2], [3, 4, 5, 2, 1], [3, 5, 1, 2, 4], [3, 5, 1, 4, 2], [3, 5, 2, 1, 4], [3, 5, 2, 4, 1], [3, 5, 4, 1, 2], [3, 5, 4, 2, 1], [4, 1, 2, 3, 5], [4, 1, 2, 5, 3], [4, 1, 3, 2, 5], [4, 1, 3, 5, 2], [4, 1, 5, 2, 3], [4, 1, 5, 3, 2], [4, 2, 1, 3, 5], [4, 2, 1, 5, 3], [4, 2, 3, 1, 5], [4, 2, 3, 5, 1], [4, 2, 5, 1, 3], [4, 2, 5, 3, 1], [4, 3, 1, 2, 5], [4, 3, 1, 5, 2], [4, 3, 2, 1, 5], [4, 3, 2, 5, 1], [4, 3, 5, 1, 2], [4, 3, 5, 2, 1], [4, 5, 1, 2, 3], [4, 5, 1, 3, 2], [4, 5, 2, 1, 3], [4, 5, 2, 3, 1], [4, 5, 3, 1, 2], [4, 5, 3, 2, 1], [5, 1, 2, 3, 4], [5, 1, 2, 4, 3], [5, 1, 3, 2, 4], [5, 1, 3, 4, 2], [5, 1, 4, 2, 3], [5, 1, 4, 3, 2], [5, 2, 1, 3, 4], [5, 2, 1, 4, 3], [5, 2, 3, 1, 4], [5, 2, 3, 4, 1], [5, 2, 4, 1, 3], [5, 2, 4, 3, 1], [5, 3, 1, 2, 4], [5, 3, 1, 4, 2], [5, 3, 2, 1, 4], [5, 3, 2, 4, 1], [5, 3, 4, 1, 2], [5, 3, 4, 2, 1], [5, 4, 1, 2, 3], [5, 4, 1, 3, 2], [5, 4, 2, 1, 3], [5, 4, 2, 3, 1], [5, 4, 3, 1, 2], [5, 4, 3, 2, 1]]\n"
          ]
        }
      ]
    },
    {
      "cell_type": "code",
      "source": [
        "print(get_all_permutations([10,6,20]))"
      ],
      "metadata": {
        "colab": {
          "base_uri": "https://localhost:8080/"
        },
        "id": "gxJVOwmdg3PE",
        "outputId": "cfb72b91-8cd9-45fe-92fe-5dbd0f8901f5"
      },
      "execution_count": 132,
      "outputs": [
        {
          "output_type": "stream",
          "name": "stdout",
          "text": [
            "[[10, 6, 20], [10, 20, 6], [6, 10, 20], [6, 20, 10], [20, 10, 6], [20, 6, 10]]\n"
          ]
        }
      ]
    },
    {
      "cell_type": "markdown",
      "source": [
        "<br/>\n",
        "<br/>"
      ],
      "metadata": {
        "id": "LJlghgvUg6At"
      }
    },
    {
      "cell_type": "markdown",
      "source": [
        "###Task 5:\n",
        "\n",
        "Write a function that accepts as input a sentence in the structure of a string and returns the sentence with words in reversed order.\n"
      ],
      "metadata": {
        "id": "nirfbDgwNxX1"
      }
    },
    {
      "cell_type": "code",
      "source": [
        "def reverse_string_words(string_words: str) -> str:\n",
        "  \"\"\"\n",
        "  The function get a sentence and reverse the words to opposite order\n",
        "  \"\"\"\n",
        "  words = string_words.split()\n",
        "  new_string_words = ' '.join(words[::-1])\n",
        "  return new_string_words"
      ],
      "metadata": {
        "id": "wIBm-akbOfsf"
      },
      "execution_count": 133,
      "outputs": []
    },
    {
      "cell_type": "markdown",
      "source": [
        "#####Examples:"
      ],
      "metadata": {
        "id": "LqQfgtWuNxeE"
      }
    },
    {
      "cell_type": "code",
      "source": [
        "print(reverse_string_words('Python Is My Favorite Programming Language'))"
      ],
      "metadata": {
        "colab": {
          "base_uri": "https://localhost:8080/"
        },
        "id": "uX28Q7uOOipj",
        "outputId": "ce1f18af-9a91-4d68-f2c0-920f8fe21e23"
      },
      "execution_count": 134,
      "outputs": [
        {
          "output_type": "stream",
          "name": "stdout",
          "text": [
            "Language Programming Favorite My Is Python\n"
          ]
        }
      ]
    },
    {
      "cell_type": "code",
      "source": [
        "print(reverse_string_words('Python Language'))"
      ],
      "metadata": {
        "colab": {
          "base_uri": "https://localhost:8080/"
        },
        "id": "NmoNZfNbOir0",
        "outputId": "0e988bb2-fd16-4bcd-9184-e4633f4a941a"
      },
      "execution_count": 135,
      "outputs": [
        {
          "output_type": "stream",
          "name": "stdout",
          "text": [
            "Language Python\n"
          ]
        }
      ]
    },
    {
      "cell_type": "code",
      "source": [
        "print(reverse_string_words(''))"
      ],
      "metadata": {
        "colab": {
          "base_uri": "https://localhost:8080/"
        },
        "id": "wE9Co6NqOitr",
        "outputId": "b462f9c2-37a0-4f07-9d1b-a28eabe4f64f"
      },
      "execution_count": 136,
      "outputs": [
        {
          "output_type": "stream",
          "name": "stdout",
          "text": [
            "\n"
          ]
        }
      ]
    },
    {
      "cell_type": "code",
      "source": [
        "print(reverse_string_words('Python is Language'))"
      ],
      "metadata": {
        "colab": {
          "base_uri": "https://localhost:8080/"
        },
        "id": "2HK95KHEjDVy",
        "outputId": "88986e4b-5171-4e2d-a648-36aac6ed1432"
      },
      "execution_count": 137,
      "outputs": [
        {
          "output_type": "stream",
          "name": "stdout",
          "text": [
            "Language is Python\n"
          ]
        }
      ]
    },
    {
      "cell_type": "code",
      "source": [
        "print(reverse_string_words('a b c d e f g h i j k l m n o p q r s t u v w x y z'))"
      ],
      "metadata": {
        "colab": {
          "base_uri": "https://localhost:8080/"
        },
        "id": "djzFKCzmjDfs",
        "outputId": "996937da-1853-4367-8645-b0731d20bc84"
      },
      "execution_count": 138,
      "outputs": [
        {
          "output_type": "stream",
          "name": "stdout",
          "text": [
            "z y x w v u t s r q p o n m l k j i h g f e d c b a\n"
          ]
        }
      ]
    },
    {
      "cell_type": "code",
      "source": [
        "print(reverse_string_words('Python'))"
      ],
      "metadata": {
        "colab": {
          "base_uri": "https://localhost:8080/"
        },
        "id": "o8G36sfCjDpe",
        "outputId": "451bd1eb-6700-49cb-c097-3078e42d3c34"
      },
      "execution_count": 139,
      "outputs": [
        {
          "output_type": "stream",
          "name": "stdout",
          "text": [
            "Python\n"
          ]
        }
      ]
    },
    {
      "cell_type": "code",
      "source": [
        "print(reverse_string_words('Python? Yes!'))"
      ],
      "metadata": {
        "colab": {
          "base_uri": "https://localhost:8080/"
        },
        "id": "CkXELN5rj98Z",
        "outputId": "47a9c561-45ea-4c86-b703-56e88e4cc892"
      },
      "execution_count": 140,
      "outputs": [
        {
          "output_type": "stream",
          "name": "stdout",
          "text": [
            "Yes! Python?\n"
          ]
        }
      ]
    }
  ]
}